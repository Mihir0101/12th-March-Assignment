{
 "cells": [
  {
   "cell_type": "markdown",
   "id": "7046b7d7-d25d-4a63-8012-a74e66b04960",
   "metadata": {},
   "source": [
    "# 12th March Assignment"
   ]
  },
  {
   "cell_type": "code",
   "execution_count": null,
   "id": "3ff7cda9-7d1c-4adc-95be-f38e19ce3428",
   "metadata": {},
   "outputs": [],
   "source": []
  },
  {
   "cell_type": "markdown",
   "id": "607bd2d9-de6b-481e-bdba-9085c668d08c",
   "metadata": {},
   "source": [
    "Q1. Calculate the 95% confidence interval for a sample of data with a mean of 50 and a standard deviation\n",
    "of 5 using Python. Interpret the results."
   ]
  },
  {
   "cell_type": "markdown",
   "id": "1dc09fff-9da3-4481-a69a-6f842b0e5029",
   "metadata": {},
   "source": [
    "Confidence Interval = 50 ± (1.96 * (5 / √100))\n",
    "\n",
    "Confidence Interval = 50 ± (1.96 * 0.5)\n",
    "\n",
    "Confidence Interval = 50 ± 0.98\n",
    "\n",
    "-> The confidence interval would be (49.02, 50.98)."
   ]
  },
  {
   "cell_type": "code",
   "execution_count": null,
   "id": "38a9e09a-9230-41fc-a8e0-afbb6462740a",
   "metadata": {},
   "outputs": [],
   "source": []
  },
  {
   "cell_type": "markdown",
   "id": "d07aa148-f8dd-4f0c-a81b-1c6b5adf043b",
   "metadata": {},
   "source": [
    "Q2. Conduct a chi-square goodness of fit test to determine if the distribution of colors of M&Ms in a bag\n",
    "matches the expected distribution of 20% blue, 20% orange, 20% green, 10% yellow, 10% red, and 20%\n",
    "brown. Use Python to perform the test with a significance level of 0.05."
   ]
  },
  {
   "cell_type": "markdown",
   "id": "e0479304-c824-4395-94eb-6545b0422881",
   "metadata": {},
   "source": [
    "M&M'S Milk Chocolate ( Observed Data): 30% brown, 20% yellow, 20% red, 10% orange, 10% green,10% blue.\n",
    "\n",
    "M&Ms Milk Chocolate (Expected Data ) : 20% brown,10% yellow,10% red,20% orange,20% green,20% blue.\n",
    "\n",
    "-> According to 500 sample size :\n",
    "\n",
    "Observed Data : 150 brown,100 yellow,100red , 50orange , 50 green , 50 blue .\n",
    "\n",
    "Expected Data : 100 brown , 50 yellow , 50 red , 100 orange, 100 green , 100 blue."
   ]
  },
  {
   "cell_type": "code",
   "execution_count": 4,
   "id": "1b3a6720-ef76-47cb-9529-9203fed1dfa6",
   "metadata": {},
   "outputs": [
    {
     "data": {
      "text/plain": [
       "200.0"
      ]
     },
     "execution_count": 4,
     "metadata": {},
     "output_type": "execute_result"
    }
   ],
   "source": [
    "import scipy.stats as stat\n",
    "\n",
    "observed_data = [150,100,100,50,50,50]\n",
    "expected_data = [100,50,50,100,100,100]\n",
    "\n",
    "chi_square_statistics,p_value = stat.chisquare(observed_data,expected_data)\n",
    "chi_square_statistics"
   ]
  },
  {
   "cell_type": "code",
   "execution_count": 3,
   "id": "fed3e5ef-a7a9-4582-bb71-23660d7bd100",
   "metadata": {},
   "outputs": [
    {
     "data": {
      "text/plain": [
       "3.327235743604043"
      ]
     },
     "execution_count": 3,
     "metadata": {},
     "output_type": "execute_result"
    }
   ],
   "source": [
    "significance_value =  0.05\n",
    "df=5\n",
    "critical_value = stat.chi.ppf(1-significance_value,df)\n",
    "critical_value"
   ]
  },
  {
   "cell_type": "code",
   "execution_count": 5,
   "id": "73e740d1-379b-4c6a-9253-7f45ea2c1268",
   "metadata": {},
   "outputs": [
    {
     "name": "stdout",
     "output_type": "stream",
     "text": [
      "We reject the null hypothesis\n"
     ]
    }
   ],
   "source": [
    "if chi_square_statistics > critical_value :\n",
    "    print('We reject the null hypothesis')\n",
    "else :\n",
    "    print('We fail to reject the null hypothesis')"
   ]
  },
  {
   "cell_type": "code",
   "execution_count": null,
   "id": "a4160897-316e-4279-a8d5-eadf74823049",
   "metadata": {},
   "outputs": [],
   "source": []
  },
  {
   "cell_type": "markdown",
   "id": "163d5a58-b864-44e9-9124-93fc97b5c4a4",
   "metadata": {},
   "source": [
    "Q3. Use Python to calculate the chi-square statistic and p-value for a contingency table with the following\n",
    "data:\n",
    "\n",
    "group_A = [20,10,15]\n",
    "\n",
    "group_B = [15,25,20]\n",
    "\n",
    "Interpret the results of the test."
   ]
  },
  {
   "cell_type": "code",
   "execution_count": 13,
   "id": "b30d1419-3832-44a5-9825-484f0eea8697",
   "metadata": {},
   "outputs": [
    {
     "name": "stdout",
     "output_type": "stream",
     "text": [
      "chi : 5.833333333333334\n",
      "p_value : 0.05411376622282158\n",
      "df : 2\n",
      "expected : [[15. 20.]\n",
      " [15. 20.]\n",
      " [15. 20.]]\n"
     ]
    }
   ],
   "source": [
    "import scipy.stats.contingency as c\n",
    "\n",
    "observed = ([20,15],[10,25],[15,20])\n",
    "\n",
    "chi,p_value,df,expected = c.chi2_contingency(observed)\n",
    "\n",
    "print('chi :',chi)\n",
    "print('p_value :',p_value)\n",
    "print('df :',df)\n",
    "print('expected :',expected)"
   ]
  },
  {
   "cell_type": "code",
   "execution_count": null,
   "id": "6aa1385f-1101-4540-9c7a-e7d943480377",
   "metadata": {},
   "outputs": [],
   "source": []
  },
  {
   "cell_type": "markdown",
   "id": "813e3c40-7d4f-42e3-bebc-e99d0dff6bf0",
   "metadata": {},
   "source": [
    "Q4. A study of the prevalence of smoking in a population of 500 individuals found that 60 individuals\n",
    "smoked. Use Python to calculate the 95% confidence interval for the true proportion of individuals in the\n",
    "population who smoke."
   ]
  },
  {
   "cell_type": "code",
   "execution_count": 19,
   "id": "45dcd915-4326-4260-a3f2-e66d51eff2f4",
   "metadata": {},
   "outputs": [
    {
     "data": {
      "text/plain": [
       "(0.037773386303460124, 0.20222661369653988)"
      ]
     },
     "execution_count": 19,
     "metadata": {},
     "output_type": "execute_result"
    }
   ],
   "source": [
    "import math\n",
    "\n",
    "n = 500\n",
    "somkers =60\n",
    "proportion = smokers / n\n",
    "\n",
    "standard_error= math.sqrt((1 * (1-proportion))/n)\n",
    "margin_of_error = 1.96 * standard_error\n",
    "\n",
    "lower_bound = proportion - margin_of_error\n",
    "upper_bound = proportion + margin_of_error\n",
    "\n",
    "lower_bound,upper_bound"
   ]
  },
  {
   "cell_type": "code",
   "execution_count": null,
   "id": "e5a40fc2-c41e-479c-9f67-2f7abe85181c",
   "metadata": {},
   "outputs": [],
   "source": []
  },
  {
   "cell_type": "markdown",
   "id": "29967402-7476-4235-8697-6ed12dc67897",
   "metadata": {},
   "source": [
    "Q5. Calculate the 90% confidence interval for a sample of data with a mean of 75 and a standard deviation\n",
    "of 12 using Python. Interpret the results."
   ]
  },
  {
   "cell_type": "code",
   "execution_count": 1,
   "id": "09f6b785-c239-45ab-94e2-d6d802a1c0bd",
   "metadata": {},
   "outputs": [
    {
     "data": {
      "text/plain": [
       "(71.27739919800369, 78.72260080199631)"
      ]
     },
     "execution_count": 1,
     "metadata": {},
     "output_type": "execute_result"
    }
   ],
   "source": [
    "import scipy.stats as stats\n",
    "\n",
    "mean = 75\n",
    "std_dev = 12\n",
    "sample_size = 30\n",
    "confidence_level = 0.9\n",
    "\n",
    "std_error = std_dev / (sample_size ** 0.5)\n",
    "\n",
    "t_value = stats.t.ppf((1 + confidence_level) / 2, sample_size - 1)\n",
    "\n",
    "margin_of_error = t_value * std_error\n",
    "\n",
    "lower_bound= mean - margin_of_error\n",
    "upper_bound = mean + margin_of_error\n",
    "\n",
    "lower_bound,upper_bound"
   ]
  },
  {
   "cell_type": "code",
   "execution_count": null,
   "id": "8c00fc24-94c8-496a-9f4c-8949b44fcd0f",
   "metadata": {},
   "outputs": [],
   "source": []
  },
  {
   "cell_type": "markdown",
   "id": "c7a53e9d-89d5-44ea-b767-eb9381d4789b",
   "metadata": {},
   "source": [
    "Q6. Use Python to plot the chi-square distribution with 10 degrees of freedom. Label the axes and shade the\n",
    "area corresponding to a chi-square statistic of 15."
   ]
  },
  {
   "cell_type": "code",
   "execution_count": 10,
   "id": "24804850-50d1-4bac-b06b-cb9c18f494d4",
   "metadata": {},
   "outputs": [
    {
     "data": {
      "image/png": "[encoded data removed]",
      "text/plain": [
       "<Figure size 640x480 with 1 Axes>"
      ]
     },
     "metadata": {},
     "output_type": "display_data"
    }
   ],
   "source": [
    "import numpy as np\n",
    "import scipy.stats as stats\n",
    "import matplotlib.pyplot as plt\n",
    "\n",
    "df = 10\n",
    "x = np.linspace(0, 30, 500)\n",
    "pdf = stats.chi2.pdf(x, df)\n",
    "plt.plot(x, pdf, label=f\"df={df}\")\n",
    "\n",
    "x_fill = np.linspace(15, 30, 100)\n",
    "pdf_fill = stats.chi2.pdf(x_fill, df)\n",
    "plt.fill_between(x_fill, pdf_fill, color='blue', alpha=0.3)\n",
    "\n",
    "plt.xlabel(\"Chi-square statistic\")\n",
    "plt.ylabel(\"Probability Density Function\")\n",
    "plt.title(\"Chi-square Distribution\")\n",
    "\n",
    "plt.legend()\n",
    "plt.show()"
   ]
  },
  {
   "cell_type": "code",
   "execution_count": null,
   "id": "80ec17a5-ed28-4193-b0a8-821ac20b97d3",
   "metadata": {},
   "outputs": [],
   "source": []
  },
  {
   "cell_type": "markdown",
   "id": "d06b314f-1f84-4d0e-abc9-0c946d55da39",
   "metadata": {},
   "source": [
    "Q7. A random sample of 1000 people was asked if they preferred Coke or Pepsi. Of the sample, 520\n",
    "preferred Coke. Calculate a 99% confidence interval for the true proportion of people in the population who\n",
    "prefer Coke."
   ]
  },
  {
   "cell_type": "code",
   "execution_count": 13,
   "id": "20834097-ec6e-4186-b406-9945b2395496",
   "metadata": {},
   "outputs": [
    {
     "name": "stdout",
     "output_type": "stream",
     "text": [
      "0.46347503206546686 0.5765249679345331\n"
     ]
    }
   ],
   "source": [
    "import math\n",
    "\n",
    "n = 1000\n",
    "\n",
    "coke_lovers = 520 \n",
    "\n",
    "proportion = coke_lovers / n\n",
    "\n",
    "standard_error = math.sqrt((1 * (1 - proportion)) / n)\n",
    "\n",
    "margin_of_error = 2.58 * standard_error\n",
    "\n",
    "lower_bound = proportion - margin_of_error\n",
    "upper_bound = proportion + margin_of_error\n",
    "\n",
    "print(lower_bound,upper_bound)"
   ]
  },
  {
   "cell_type": "code",
   "execution_count": null,
   "id": "00b717a1-b737-451e-9ab7-8d1e236cc7be",
   "metadata": {},
   "outputs": [],
   "source": []
  },
  {
   "cell_type": "markdown",
   "id": "a1b0ec4f-42e5-4d22-a63d-7aa83575f668",
   "metadata": {},
   "source": [
    "Q8. A researcher hypothesizes that a coin is biased towards tails. They flip the coin 100 times and observe\n",
    "45 tails. Conduct a chi-square goodness of fit test to determine if the observed frequencies match the\n",
    "expected frequencies of a fair coin. Use a significance level of 0.05."
   ]
  },
  {
   "cell_type": "code",
   "execution_count": 1,
   "id": "71f952c2-cc9b-4fad-9744-b14f23507076",
   "metadata": {},
   "outputs": [
    {
     "data": {
      "text/plain": [
       "1.0"
      ]
     },
     "execution_count": 1,
     "metadata": {},
     "output_type": "execute_result"
    }
   ],
   "source": [
    "import scipy.stats as stat\n",
    "\n",
    "observed_data=[45,55]\n",
    "expected_data=[50,50]\n",
    "\n",
    "chi_test,p_value=stat.chisquare(observed_data,expected_data)\n",
    "\n",
    "chi_test"
   ]
  },
  {
   "cell_type": "code",
   "execution_count": 2,
   "id": "02dbd4cb-add2-49ce-a5eb-ee071aac37d9",
   "metadata": {},
   "outputs": [
    {
     "data": {
      "text/plain": [
       "1.9599639845400538"
      ]
     },
     "execution_count": 2,
     "metadata": {},
     "output_type": "execute_result"
    }
   ],
   "source": [
    "df=1\n",
    "significance_value=0.05\n",
    "\n",
    "critical_value=stat.chi.ppf(1-significance_value , df)\n",
    "\n",
    "critical_value"
   ]
  },
  {
   "cell_type": "code",
   "execution_count": 3,
   "id": "4edce3f0-cb5e-443f-8c23-517c076551c3",
   "metadata": {},
   "outputs": [
    {
     "name": "stdout",
     "output_type": "stream",
     "text": [
      "Qe fail to reject the null hypothesis\n"
     ]
    }
   ],
   "source": [
    "if chi_test > critical_value :\n",
    "    print('We reject the null hypothesis')\n",
    "else :\n",
    "    print(\"Qe fail to reject the null hypothesis\")"
   ]
  },
  {
   "cell_type": "code",
   "execution_count": null,
   "id": "ad101903-f36e-4489-8b0c-1d2fe27a1529",
   "metadata": {},
   "outputs": [],
   "source": []
  },
  {
   "cell_type": "markdown",
   "id": "dc61d950-7f3e-413b-af17-f97a1e21c6dd",
   "metadata": {},
   "source": [
    "Q9. A study was conducted to determine if there is an association between smoking status (smoker or\n",
    "non-smoker) and lung cancer diagnosis (yes or no). The results are shown in the contingency table below.\n",
    "Conduct a chi-square test for independence to determine if there is a significant association between\n",
    "smoking status and lung cancer diagnosis.\n",
    "\n",
    "Use a significance level of 0.05."
   ]
  },
  {
   "cell_type": "code",
   "execution_count": 8,
   "id": "f79e3e2d-b693-489c-9e51-64419d265074",
   "metadata": {},
   "outputs": [
    {
     "name": "stdout",
     "output_type": "stream",
     "text": [
      "There is significant association between smoking status and lung cancer\n"
     ]
    }
   ],
   "source": [
    "import scipy.stats.contingency as stat\n",
    "\n",
    "observed_data  = [[60,140],[30,170]]\n",
    "\n",
    "chi_test,p_value,df,expected = stat.chi2_contingency(observed_data)\n",
    "\n",
    "alpha = 0.05\n",
    "\n",
    "if p_value < alpha :\n",
    "    print('There is significant association between smoking status and lung cancer')\n",
    "else : \n",
    "    print(\"There ain't significant association between smoking status and lung cancer\")"
   ]
  },
  {
   "cell_type": "code",
   "execution_count": null,
   "id": "4ad01c60-9c60-4e78-9472-8927b5b35b02",
   "metadata": {},
   "outputs": [],
   "source": []
  },
  {
   "cell_type": "markdown",
   "id": "7420a44f-1964-49f9-8df9-dabd9372eeba",
   "metadata": {},
   "source": [
    "Q10. A study was conducted to determine if the proportion of people who prefer milk chocolate, dark\n",
    "chocolate, or white chocolate is different in the U.S. versus the U.K. A random sample of 500 people from\n",
    "the U.S. and a random sample of 500 people from the U.K. were surveyed. The results are shown in the\n",
    "contingency table below. Conduct a chi-square test for independence to determine if there is a significant\n",
    "association between chocolate preference and country of origin.\n",
    "\n",
    "Use a significance level of 0.01."
   ]
  },
  {
   "cell_type": "code",
   "execution_count": 10,
   "id": "84c89257-e5e5-49f0-9285-eea3f1afd1ea",
   "metadata": {},
   "outputs": [
    {
     "name": "stdout",
     "output_type": "stream",
     "text": [
      "chi_stat 13.393665158371041\n",
      "p_value 0.0012348168997745918\n",
      "df 2\n",
      "expected_data [[212.5 162.5 125. ]\n",
      " [212.5 162.5 125. ]]\n",
      "There is significant association between chocolate preference and country of origin\n"
     ]
    }
   ],
   "source": [
    "observed_d = [[200,150,150],[225,175,100]]\n",
    "\n",
    "chi_stat,p_val,df,expected_d = stat.chi2_contingency(observed_d)\n",
    "\n",
    "print('chi_stat',chi_stat)\n",
    "print('p_value',p_val)\n",
    "print('df',df)\n",
    "print('expected_data',expected_d)\n",
    "\n",
    "significance_v = 0.01\n",
    "\n",
    "if p_val < significance_v :\n",
    "    print('There is significant association between chocolate preference and country of origin')\n",
    "else :\n",
    "    print('There is not significant association between chocolate preference and country of origin')"
   ]
  },
  {
   "cell_type": "code",
   "execution_count": null,
   "id": "85487b58-5b0d-4a2c-aefb-13d966070bf5",
   "metadata": {},
   "outputs": [],
   "source": []
  },
  {
   "cell_type": "markdown",
   "id": "3a006e31-5bdc-49b8-85ca-9a7e2fdffc7e",
   "metadata": {},
   "source": [
    "Q11. A random sample of 30 people was selected from a population with an unknown mean and standard\n",
    "deviation. The sample mean was found to be 72 and the sample standard deviation was found to be 10.\n",
    "Conduct a hypothesis test to determine if the population mean is significantly different from 70. Use a\n",
    "significance level of 0.05."
   ]
  },
  {
   "cell_type": "code",
   "execution_count": 20,
   "id": "efd0c8b9-9392-454a-81c8-ff3e24ee06f0",
   "metadata": {},
   "outputs": [
    {
     "name": "stdout",
     "output_type": "stream",
     "text": [
      "ttest: -1.0954451150103321\n",
      "P_value: 2.045229642132703\n",
      "We fail to reject the null hypothesis\n"
     ]
    }
   ],
   "source": [
    "import math\n",
    "import scipy.stats as s\n",
    "n=30\n",
    "sample_mean=72\n",
    "sample_std=10\n",
    "\n",
    "# Null hypothesis = population mean is equal to 70\n",
    "\n",
    "#Aternate_Hypothesis = population mean is not equal to 70\n",
    "\n",
    "significance_vle=0.05\n",
    "\n",
    "## t_test = ( Xi - x̄ ) / sample_std / math.sqrt(n)\n",
    "            \n",
    "ttest = (70 - 72)/(sample_std/math.sqrt(n))\n",
    "\n",
    "df=n-1\n",
    "\n",
    "p_vle = s.t.ppf(1-significance_vle/2 , df)\n",
    "print('ttest:',ttest)\n",
    "print('P_value:',p_vle)\n",
    "\n",
    "if p_vle < significance_vle :\n",
    "    print('We reject the null hypothesis')\n",
    "else :\n",
    "    print('We fail to reject the null hypothesis')"
   ]
  },
  {
   "cell_type": "code",
   "execution_count": null,
   "id": "6bfe3c0f-0403-4e61-a686-696f408d19ab",
   "metadata": {},
   "outputs": [],
   "source": []
  },
  {
   "cell_type": "code",
   "execution_count": null,
   "id": "41a99e91-1d76-44d8-86e1-ab0517592325",
   "metadata": {},
   "outputs": [],
   "source": []
  },
  {
   "cell_type": "code",
   "execution_count": null,
   "id": "64c0a6c7-4241-432b-952a-51c235ccfff3",
   "metadata": {},
   "outputs": [],
   "source": []
  },
  {
   "cell_type": "code",
   "execution_count": null,
   "id": "e14ecd54-624d-467a-8555-a0c44f48038c",
   "metadata": {},
   "outputs": [],
   "source": []
  }
 ],
 "metadata": {
  "kernelspec": {
   "display_name": "Python 3 (ipykernel)",
   "language": "python",
   "name": "python3"
  },
  "language_info": {
   "codemirror_mode": {
    "name": "ipython",
    "version": 3
   },
   "file_extension": ".py",
   "mimetype": "text/x-python",
   "name": "python",
   "nbconvert_exporter": "python",
   "pygments_lexer": "ipython3",
   "version": "3.10.8"
  }
 },
 "nbformat": 4,
 "nbformat_minor": 5
}
